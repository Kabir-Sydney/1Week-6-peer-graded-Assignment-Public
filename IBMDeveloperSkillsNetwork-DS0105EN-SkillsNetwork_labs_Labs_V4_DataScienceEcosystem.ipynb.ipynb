{
  "metadata": {
    "language_info": {
      "codemirror_mode": {
        "name": "javascript"
      },
      "file_extension": ".js",
      "mimetype": "text/javascript",
      "name": "p5js",
      "nbconvert_exporter": "javascript",
      "pygments_lexer": "javascript",
      "version": "es2017"
    },
    "kernelspec": {
      "name": "p5js",
      "display_name": "p5.js",
      "language": "javascript"
    }
  },
  "nbformat_minor": 4,
  "nbformat": 4,
  "cells": [
    {
      "cell_type": "markdown",
      "source": "Data Science Tools and Ecosystem",
      "metadata": {}
    },
    {
      "cell_type": "markdown",
      "source": "3 In this notebook, Data Science Tools and Ecosystem are summarized.",
      "metadata": {}
    },
    {
      "cell_type": "markdown",
      "source": "4 Data science languages\n- Python\n- SQL\n- R",
      "metadata": {}
    },
    {
      "cell_type": "markdown",
      "source": "5 Data science libraries\n- NumPy\n- SciPy\n- Pandas\n- Keras\n- SciKit-Learn",
      "metadata": {}
    },
    {
      "cell_type": "markdown",
      "source": "6 Table of data science tools\n| Business Goal | Library |\n| -------------| ------ |\n| Data Exploration | NumPhy |\n| Data Visualization | Pandas |\n| Prediction | SciKit-Learn |",
      "metadata": {}
    },
    {
      "cell_type": "markdown",
      "source": "7 Arithmetic operations",
      "metadata": {}
    },
    {
      "cell_type": "code",
      "source": "one = 1\ntwo = 2\nprint (one+two)",
      "metadata": {
        "trusted": true
      },
      "execution_count": 2,
      "outputs": [
        {
          "execution_count": 2,
          "output_type": "execute_result",
          "data": {},
          "metadata": {}
        },
        {
          "event": "stream",
          "name": "stdout",
          "text": "3\n",
          "output_type": "stream"
        }
      ]
    },
    {
      "cell_type": "markdown",
      "source": "8 Multiply and add numbers",
      "metadata": {}
    },
    {
      "cell_type": "code",
      "source": "(3*7)+9",
      "metadata": {
        "trusted": true
      },
      "execution_count": 3,
      "outputs": [
        {
          "execution_count": 3,
          "output_type": "execute_result",
          "data": {
            "text/plain": 30
          },
          "metadata": {}
        }
      ]
    },
    {
      "cell_type": "markdown",
      "source": "9 convert 2000 minutes to hours",
      "metadata": {}
    },
    {
      "cell_type": "code",
      "source": "days = 0\nhours = 0\nmins = 0\ntime = 2000\nleftover_minutes = time % 1440\nhours = leftover_minutes / 60",
      "metadata": {
        "trusted": true
      },
      "execution_count": 22,
      "outputs": [
        {
          "execution_count": 22,
          "output_type": "execute_result",
          "data": {
            "text/plain": 9.333333333333334
          },
          "metadata": {}
        }
      ]
    },
    {
      "cell_type": "markdown",
      "source": "10. Insert a markdown cell to list Objectives",
      "metadata": {}
    },
    {
      "cell_type": "markdown",
      "source": "*Objectives:*\n- List popular languages that Data Scientists use.\n- List commonly used libraries used by Data Scientists.\n- Comment on Data Science tools",
      "metadata": {}
    },
    {
      "cell_type": "markdown",
      "source": "11 Create a markdown cell to indicate the Author’s name",
      "metadata": {}
    },
    {
      "cell_type": "markdown",
      "source": "**Author Name**",
      "metadata": {}
    },
    {
      "cell_type": "markdown",
      "source": "*Ahamudul Kabir*",
      "metadata": {}
    },
    {
      "cell_type": "markdown",
      "source": "12 Share your notebook through GitHub ( Done)",
      "metadata": {}
    },
    {
      "cell_type": "markdown",
      "source": "13 - Take a screenshot of the first page of the notebook. (Screenshot taken)",
      "metadata": {}
    },
    {
      "cell_type": "code",
      "source": "",
      "metadata": {},
      "execution_count": null,
      "outputs": []
    }
  ]
}