{
  "metadata": {
    "language_info": {
      "codemirror_mode": {
        "name": "javascript"
      },
      "file_extension": ".js",
      "mimetype": "text/javascript",
      "name": "p5js",
      "nbconvert_exporter": "javascript",
      "pygments_lexer": "javascript",
      "version": "es2017"
    },
    "kernelspec": {
      "name": "p5js",
      "display_name": "p5.js",
      "language": "javascript"
    }
  },
  "nbformat_minor": 4,
  "nbformat": 4,
  "cells": [
    {
      "cell_type": "markdown",
      "source": "# JupiterPeerGradedAssignment",
      "metadata": {}
    },
    {
      "cell_type": "markdown",
      "source": "In this notebook, Data Science Tools and Ecosystem are summarized",
      "metadata": {}
    },
    {
      "cell_type": "markdown",
      "source": "Some of the popular languages data scientists use are:\n1. Python\n2. R\n3. SQL\n4. Scala\n5. Java\n6. C++\n7. Julia\n8. JavaScript\n9. Php\n10. Go\n11. Ruby\n12. Visual Basic\n",
      "metadata": {}
    },
    {
      "cell_type": "markdown",
      "source": "Some of the comonly used libraries used by data scientist:\n1. Pandas\n2. Numpy\n3. Matplotlib\n4. Seaborn\n5. SciKi-Learn\n6. Keras\n7. TensorFlow\n8. PyTorch\n9. Apache Spark\n10. Vegas",
      "metadata": {}
    },
    {
      "cell_type": "markdown",
      "source": "**Table of data science tools**\n| **Data Science Tools** |\n| -------------|\n| Anaconda |\n| Jupyter Notebook |\n| R Studio |\n| Spyder |\n| Zeppelin |",
      "metadata": {}
    },
    {
      "cell_type": "markdown",
      "source": "### Below are few examples of evaluating arithmetic expressions in PYTHON",
      "metadata": {}
    },
    {
      "cell_type": "code",
      "source": "one = 1\ntwo = 2\nprint (one+two)",
      "metadata": {
        "trusted": true
      },
      "execution_count": 2,
      "outputs": [
        {
          "execution_count": 2,
          "output_type": "execute_result",
          "data": {},
          "metadata": {}
        },
        {
          "event": "stream",
          "name": "stdout",
          "text": "3\n",
          "output_type": "stream"
        }
      ]
    },
    {
      "cell_type": "markdown",
      "source": "Code cell to multiply and add numbers",
      "metadata": {}
    },
    {
      "cell_type": "code",
      "source": "(3*4)+5",
      "metadata": {
        "trusted": true
      },
      "execution_count": 2,
      "outputs": [
        {
          "execution_count": 2,
          "output_type": "execute_result",
          "data": {
            "text/plain": 17
          },
          "metadata": {}
        }
      ]
    },
    {
      "cell_type": "markdown",
      "source": "Code to Convert 200 minutes to hours",
      "metadata": {}
    },
    {
      "cell_type": "code",
      "source": "days = 0\nhours = 0\nmins = 0\ntime = 200\nleftover_minutes = time % 1440\nhours = leftover_minutes / 60",
      "metadata": {
        "trusted": true
      },
      "execution_count": 1,
      "outputs": [
        {
          "execution_count": 1,
          "output_type": "execute_result",
          "data": {
            "text/plain": 3.3333333333333335
          },
          "metadata": {}
        }
      ]
    },
    {
      "cell_type": "markdown",
      "source": "Markdown cell with list Objectives",
      "metadata": {}
    },
    {
      "cell_type": "markdown",
      "source": "**Objectives**\n- Add comments to code cells\n- Create markdown cells\n- Addd ordered and pre-ordered lists to markdown\n- Format content of markdown cells with heading style",
      "metadata": {}
    },
    {
      "cell_type": "markdown",
      "source": "Markdown cell to indicate the Author’s name",
      "metadata": {}
    },
    {
      "cell_type": "markdown",
      "source": "# Author Name",
      "metadata": {}
    },
    {
      "cell_type": "markdown",
      "source": "*Ahamudul Kabir*",
      "metadata": {}
    },
    {
      "cell_type": "markdown",
      "source": "12 Share your notebook through GitHub ( Done)",
      "metadata": {}
    },
    {
      "cell_type": "markdown",
      "source": "13 - Take a screenshot of the first page of the notebook. (Screenshot taken)",
      "metadata": {}
    },
    {
      "cell_type": "markdown",
      "source": "",
      "metadata": {}
    },
    {
      "cell_type": "code",
      "source": "",
      "metadata": {},
      "execution_count": null,
      "outputs": []
    }
  ]
}